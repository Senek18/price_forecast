{
 "cells": [
  {
   "cell_type": "code",
   "execution_count": 36,
   "outputs": [],
   "source": [
    "import numpy as np\n",
    "import pandas as pd\n",
    "from tqdm import tqdm\n",
    "from time import sleep"
   ],
   "metadata": {
    "collapsed": false,
    "pycharm": {
     "name": "#%%\n"
    }
   }
  },
  {
   "cell_type": "code",
   "execution_count": 12,
   "outputs": [
    {
     "data": {
      "text/plain": "      name    datetime  tempmax  tempmin  temp  feelslikemax  feelslikemin  \\\n0  germany  2021-01-01      2.8      0.7   1.9           0.9          -1.9   \n1  germany  2021-01-02      3.8     -0.4   1.1           3.0          -3.7   \n2  germany  2021-01-03      1.0     -0.6   0.5          -3.4          -4.9   \n3  germany  2021-01-04      0.8      0.6   0.7          -2.7          -3.7   \n4  germany  2021-01-05      2.9      0.7   1.6          -0.2          -3.7   \n\n   feelslike  dew  humidity  ...  solarenergy  uvindex  severerisk  \\\n0       -0.3  0.2      88.5  ...          1.2        1         NaN   \n1       -1.2 -0.7      88.0  ...          2.4        2         NaN   \n2       -4.1 -0.6      92.3  ...          0.4        0         NaN   \n3       -3.3  0.0      94.5  ...          0.4        0         NaN   \n4       -2.3  0.7      93.8  ...          0.5        0         NaN   \n\n               sunrise               sunset  moonphase  \\\n0  2021-01-01T08:17:20  2021-01-01T16:03:12       0.58   \n1  2021-01-02T08:17:10  2021-01-02T16:04:19       0.62   \n2  2021-01-03T08:16:57  2021-01-03T16:05:29       0.65   \n3  2021-01-04T08:16:40  2021-01-04T16:06:42       0.69   \n4  2021-01-05T08:16:19  2021-01-05T16:07:57       0.72   \n\n                     conditions  \\\n0  Snow, Rain, Partially cloudy   \n1  Snow, Rain, Partially cloudy   \n2          Snow, Rain, Overcast   \n3  Snow, Rain, Partially cloudy   \n4          Snow, Rain, Overcast   \n\n                                         description  icon  \\\n0  Partly cloudy throughout the day with rain or ...  rain   \n1  Partly cloudy throughout the day with morning ...  rain   \n2  Cloudy skies throughout the day with rain or s...  snow   \n3  Partly cloudy throughout the day with a chance...  snow   \n4  Cloudy skies throughout the day with rain or s...  rain   \n\n                                            stations  \n0  00427,00420,03987,10385099999,00403,EDDB,E2835...  \n1          00427,00420,03987,00403,E2835,00433,00400  \n2          00427,00420,03987,00403,E2835,00433,00400  \n3          00427,00420,03987,00403,E2835,00433,00400  \n4          00427,00420,03987,00403,E2835,00433,00400  \n\n[5 rows x 33 columns]",
      "text/html": "<div>\n<style scoped>\n    .dataframe tbody tr th:only-of-type {\n        vertical-align: middle;\n    }\n\n    .dataframe tbody tr th {\n        vertical-align: top;\n    }\n\n    .dataframe thead th {\n        text-align: right;\n    }\n</style>\n<table border=\"1\" class=\"dataframe\">\n  <thead>\n    <tr style=\"text-align: right;\">\n      <th></th>\n      <th>name</th>\n      <th>datetime</th>\n      <th>tempmax</th>\n      <th>tempmin</th>\n      <th>temp</th>\n      <th>feelslikemax</th>\n      <th>feelslikemin</th>\n      <th>feelslike</th>\n      <th>dew</th>\n      <th>humidity</th>\n      <th>...</th>\n      <th>solarenergy</th>\n      <th>uvindex</th>\n      <th>severerisk</th>\n      <th>sunrise</th>\n      <th>sunset</th>\n      <th>moonphase</th>\n      <th>conditions</th>\n      <th>description</th>\n      <th>icon</th>\n      <th>stations</th>\n    </tr>\n  </thead>\n  <tbody>\n    <tr>\n      <th>0</th>\n      <td>germany</td>\n      <td>2021-01-01</td>\n      <td>2.8</td>\n      <td>0.7</td>\n      <td>1.9</td>\n      <td>0.9</td>\n      <td>-1.9</td>\n      <td>-0.3</td>\n      <td>0.2</td>\n      <td>88.5</td>\n      <td>...</td>\n      <td>1.2</td>\n      <td>1</td>\n      <td>NaN</td>\n      <td>2021-01-01T08:17:20</td>\n      <td>2021-01-01T16:03:12</td>\n      <td>0.58</td>\n      <td>Snow, Rain, Partially cloudy</td>\n      <td>Partly cloudy throughout the day with rain or ...</td>\n      <td>rain</td>\n      <td>00427,00420,03987,10385099999,00403,EDDB,E2835...</td>\n    </tr>\n    <tr>\n      <th>1</th>\n      <td>germany</td>\n      <td>2021-01-02</td>\n      <td>3.8</td>\n      <td>-0.4</td>\n      <td>1.1</td>\n      <td>3.0</td>\n      <td>-3.7</td>\n      <td>-1.2</td>\n      <td>-0.7</td>\n      <td>88.0</td>\n      <td>...</td>\n      <td>2.4</td>\n      <td>2</td>\n      <td>NaN</td>\n      <td>2021-01-02T08:17:10</td>\n      <td>2021-01-02T16:04:19</td>\n      <td>0.62</td>\n      <td>Snow, Rain, Partially cloudy</td>\n      <td>Partly cloudy throughout the day with morning ...</td>\n      <td>rain</td>\n      <td>00427,00420,03987,00403,E2835,00433,00400</td>\n    </tr>\n    <tr>\n      <th>2</th>\n      <td>germany</td>\n      <td>2021-01-03</td>\n      <td>1.0</td>\n      <td>-0.6</td>\n      <td>0.5</td>\n      <td>-3.4</td>\n      <td>-4.9</td>\n      <td>-4.1</td>\n      <td>-0.6</td>\n      <td>92.3</td>\n      <td>...</td>\n      <td>0.4</td>\n      <td>0</td>\n      <td>NaN</td>\n      <td>2021-01-03T08:16:57</td>\n      <td>2021-01-03T16:05:29</td>\n      <td>0.65</td>\n      <td>Snow, Rain, Overcast</td>\n      <td>Cloudy skies throughout the day with rain or s...</td>\n      <td>snow</td>\n      <td>00427,00420,03987,00403,E2835,00433,00400</td>\n    </tr>\n    <tr>\n      <th>3</th>\n      <td>germany</td>\n      <td>2021-01-04</td>\n      <td>0.8</td>\n      <td>0.6</td>\n      <td>0.7</td>\n      <td>-2.7</td>\n      <td>-3.7</td>\n      <td>-3.3</td>\n      <td>0.0</td>\n      <td>94.5</td>\n      <td>...</td>\n      <td>0.4</td>\n      <td>0</td>\n      <td>NaN</td>\n      <td>2021-01-04T08:16:40</td>\n      <td>2021-01-04T16:06:42</td>\n      <td>0.69</td>\n      <td>Snow, Rain, Partially cloudy</td>\n      <td>Partly cloudy throughout the day with a chance...</td>\n      <td>snow</td>\n      <td>00427,00420,03987,00403,E2835,00433,00400</td>\n    </tr>\n    <tr>\n      <th>4</th>\n      <td>germany</td>\n      <td>2021-01-05</td>\n      <td>2.9</td>\n      <td>0.7</td>\n      <td>1.6</td>\n      <td>-0.2</td>\n      <td>-3.7</td>\n      <td>-2.3</td>\n      <td>0.7</td>\n      <td>93.8</td>\n      <td>...</td>\n      <td>0.5</td>\n      <td>0</td>\n      <td>NaN</td>\n      <td>2021-01-05T08:16:19</td>\n      <td>2021-01-05T16:07:57</td>\n      <td>0.72</td>\n      <td>Snow, Rain, Overcast</td>\n      <td>Cloudy skies throughout the day with rain or s...</td>\n      <td>rain</td>\n      <td>00427,00420,03987,00403,E2835,00433,00400</td>\n    </tr>\n  </tbody>\n</table>\n<p>5 rows × 33 columns</p>\n</div>"
     },
     "execution_count": 12,
     "metadata": {},
     "output_type": "execute_result"
    }
   ],
   "source": [
    "weather = pd.read_csv(\"germany_weather.csv\")\n",
    "weather.head()"
   ],
   "metadata": {
    "collapsed": false,
    "pycharm": {
     "name": "#%%\n"
    }
   }
  },
  {
   "cell_type": "code",
   "execution_count": 13,
   "outputs": [
    {
     "data": {
      "text/plain": "Index(['name', 'datetime', 'tempmax', 'tempmin', 'temp', 'feelslikemax',\n       'feelslikemin', 'feelslike', 'dew', 'humidity', 'precip', 'precipprob',\n       'precipcover', 'preciptype', 'snow', 'snowdepth', 'windgust',\n       'windspeed', 'winddir', 'sealevelpressure', 'cloudcover', 'visibility',\n       'solarradiation', 'solarenergy', 'uvindex', 'severerisk', 'sunrise',\n       'sunset', 'moonphase', 'conditions', 'description', 'icon', 'stations'],\n      dtype='object')"
     },
     "execution_count": 13,
     "metadata": {},
     "output_type": "execute_result"
    }
   ],
   "source": [
    "weather.columns"
   ],
   "metadata": {
    "collapsed": false,
    "pycharm": {
     "name": "#%%\n"
    }
   }
  },
  {
   "cell_type": "code",
   "execution_count": 15,
   "outputs": [],
   "source": [
    "keys = ['datetime', 'temp', 'dew', 'humidity', 'windspeed', 'cloudcover']\n",
    "df = weather[keys]"
   ],
   "metadata": {
    "collapsed": false,
    "pycharm": {
     "name": "#%%\n"
    }
   }
  },
  {
   "cell_type": "code",
   "execution_count": 18,
   "outputs": [
    {
     "data": {
      "text/plain": "       datetime  temp  dew  humidity  windspeed  cloudcover\n0    2021-01-01   1.9  0.2      88.5       10.0        63.9\n1    2021-01-02   1.1 -0.7      88.0       11.3        33.7\n2    2021-01-03   0.5 -0.6      92.3       23.6        94.3\n3    2021-01-04   0.7  0.0      94.5       16.1        75.8\n4    2021-01-05   1.6  0.7      93.8       17.1        92.0\n..          ...   ...  ...       ...        ...         ...\n784  2023-02-24   3.6  1.1      84.3       23.0        95.4\n785  2023-02-25   1.7  0.0      88.9       30.8        98.8\n786  2023-02-26   0.8 -4.1      71.1       24.6        44.4\n787  2023-02-27   0.3 -4.5      72.1       14.7        49.0\n788  2023-02-28   1.2 -4.6      67.1       13.0        17.6\n\n[789 rows x 6 columns]",
      "text/html": "<div>\n<style scoped>\n    .dataframe tbody tr th:only-of-type {\n        vertical-align: middle;\n    }\n\n    .dataframe tbody tr th {\n        vertical-align: top;\n    }\n\n    .dataframe thead th {\n        text-align: right;\n    }\n</style>\n<table border=\"1\" class=\"dataframe\">\n  <thead>\n    <tr style=\"text-align: right;\">\n      <th></th>\n      <th>datetime</th>\n      <th>temp</th>\n      <th>dew</th>\n      <th>humidity</th>\n      <th>windspeed</th>\n      <th>cloudcover</th>\n    </tr>\n  </thead>\n  <tbody>\n    <tr>\n      <th>0</th>\n      <td>2021-01-01</td>\n      <td>1.9</td>\n      <td>0.2</td>\n      <td>88.5</td>\n      <td>10.0</td>\n      <td>63.9</td>\n    </tr>\n    <tr>\n      <th>1</th>\n      <td>2021-01-02</td>\n      <td>1.1</td>\n      <td>-0.7</td>\n      <td>88.0</td>\n      <td>11.3</td>\n      <td>33.7</td>\n    </tr>\n    <tr>\n      <th>2</th>\n      <td>2021-01-03</td>\n      <td>0.5</td>\n      <td>-0.6</td>\n      <td>92.3</td>\n      <td>23.6</td>\n      <td>94.3</td>\n    </tr>\n    <tr>\n      <th>3</th>\n      <td>2021-01-04</td>\n      <td>0.7</td>\n      <td>0.0</td>\n      <td>94.5</td>\n      <td>16.1</td>\n      <td>75.8</td>\n    </tr>\n    <tr>\n      <th>4</th>\n      <td>2021-01-05</td>\n      <td>1.6</td>\n      <td>0.7</td>\n      <td>93.8</td>\n      <td>17.1</td>\n      <td>92.0</td>\n    </tr>\n    <tr>\n      <th>...</th>\n      <td>...</td>\n      <td>...</td>\n      <td>...</td>\n      <td>...</td>\n      <td>...</td>\n      <td>...</td>\n    </tr>\n    <tr>\n      <th>784</th>\n      <td>2023-02-24</td>\n      <td>3.6</td>\n      <td>1.1</td>\n      <td>84.3</td>\n      <td>23.0</td>\n      <td>95.4</td>\n    </tr>\n    <tr>\n      <th>785</th>\n      <td>2023-02-25</td>\n      <td>1.7</td>\n      <td>0.0</td>\n      <td>88.9</td>\n      <td>30.8</td>\n      <td>98.8</td>\n    </tr>\n    <tr>\n      <th>786</th>\n      <td>2023-02-26</td>\n      <td>0.8</td>\n      <td>-4.1</td>\n      <td>71.1</td>\n      <td>24.6</td>\n      <td>44.4</td>\n    </tr>\n    <tr>\n      <th>787</th>\n      <td>2023-02-27</td>\n      <td>0.3</td>\n      <td>-4.5</td>\n      <td>72.1</td>\n      <td>14.7</td>\n      <td>49.0</td>\n    </tr>\n    <tr>\n      <th>788</th>\n      <td>2023-02-28</td>\n      <td>1.2</td>\n      <td>-4.6</td>\n      <td>67.1</td>\n      <td>13.0</td>\n      <td>17.6</td>\n    </tr>\n  </tbody>\n</table>\n<p>789 rows × 6 columns</p>\n</div>"
     },
     "execution_count": 18,
     "metadata": {},
     "output_type": "execute_result"
    }
   ],
   "source": [
    "df"
   ],
   "metadata": {
    "collapsed": false,
    "pycharm": {
     "name": "#%%\n"
    }
   }
  },
  {
   "cell_type": "code",
   "execution_count": 17,
   "outputs": [
    {
     "data": {
      "text/plain": "                                                data  price\ndata                                                       \n2020-01-01 00:00:00+01:00  2020-01-01 00:00:00+01:00  41.88\n2020-01-01 01:00:00+01:00  2020-01-01 01:00:00+01:00  38.60\n2020-01-01 02:00:00+01:00  2020-01-01 02:00:00+01:00  36.55\n2020-01-01 03:00:00+01:00  2020-01-01 03:00:00+01:00  32.32\n2020-01-01 04:00:00+01:00  2020-01-01 04:00:00+01:00  30.85",
      "text/html": "<div>\n<style scoped>\n    .dataframe tbody tr th:only-of-type {\n        vertical-align: middle;\n    }\n\n    .dataframe tbody tr th {\n        vertical-align: top;\n    }\n\n    .dataframe thead th {\n        text-align: right;\n    }\n</style>\n<table border=\"1\" class=\"dataframe\">\n  <thead>\n    <tr style=\"text-align: right;\">\n      <th></th>\n      <th>data</th>\n      <th>price</th>\n    </tr>\n    <tr>\n      <th>data</th>\n      <th></th>\n      <th></th>\n    </tr>\n  </thead>\n  <tbody>\n    <tr>\n      <th>2020-01-01 00:00:00+01:00</th>\n      <td>2020-01-01 00:00:00+01:00</td>\n      <td>41.88</td>\n    </tr>\n    <tr>\n      <th>2020-01-01 01:00:00+01:00</th>\n      <td>2020-01-01 01:00:00+01:00</td>\n      <td>38.60</td>\n    </tr>\n    <tr>\n      <th>2020-01-01 02:00:00+01:00</th>\n      <td>2020-01-01 02:00:00+01:00</td>\n      <td>36.55</td>\n    </tr>\n    <tr>\n      <th>2020-01-01 03:00:00+01:00</th>\n      <td>2020-01-01 03:00:00+01:00</td>\n      <td>32.32</td>\n    </tr>\n    <tr>\n      <th>2020-01-01 04:00:00+01:00</th>\n      <td>2020-01-01 04:00:00+01:00</td>\n      <td>30.85</td>\n    </tr>\n  </tbody>\n</table>\n</div>"
     },
     "execution_count": 17,
     "metadata": {},
     "output_type": "execute_result"
    }
   ],
   "source": [
    "price = pd.read_csv(\"germany_price.csv\")\n",
    "price.columns = [\"data\", \"price\"]\n",
    "price.data = pd.to_datetime(price.data)\n",
    "price.index = price.data\n",
    "price.head()"
   ],
   "metadata": {
    "collapsed": false,
    "pycharm": {
     "name": "#%%\n"
    }
   }
  },
  {
   "cell_type": "code",
   "execution_count": 37,
   "outputs": [
    {
     "data": {
      "text/plain": "                                                data   price  merge_idx\ndata                                                                   \n2020-01-01 00:00:00+01:00  2020-01-01 00:00:00+01:00   41.88        NaN\n2020-01-01 01:00:00+01:00  2020-01-01 01:00:00+01:00   38.60        NaN\n2020-01-01 02:00:00+01:00  2020-01-01 02:00:00+01:00   36.55        NaN\n2020-01-01 03:00:00+01:00  2020-01-01 03:00:00+01:00   32.32        NaN\n2020-01-01 04:00:00+01:00  2020-01-01 04:00:00+01:00   30.85        NaN\n...                                              ...     ...        ...\n2023-02-28 18:00:00+01:00  2023-02-28 18:00:00+01:00  193.87        NaN\n2023-02-28 19:00:00+01:00  2023-02-28 19:00:00+01:00  193.78        NaN\n2023-02-28 20:00:00+01:00  2023-02-28 20:00:00+01:00  174.89        NaN\n2023-02-28 21:00:00+01:00  2023-02-28 21:00:00+01:00  158.27        NaN\n2023-02-28 22:00:00+01:00  2023-02-28 22:00:00+01:00  153.78        NaN\n\n[27719 rows x 3 columns]",
      "text/html": "<div>\n<style scoped>\n    .dataframe tbody tr th:only-of-type {\n        vertical-align: middle;\n    }\n\n    .dataframe tbody tr th {\n        vertical-align: top;\n    }\n\n    .dataframe thead th {\n        text-align: right;\n    }\n</style>\n<table border=\"1\" class=\"dataframe\">\n  <thead>\n    <tr style=\"text-align: right;\">\n      <th></th>\n      <th>data</th>\n      <th>price</th>\n      <th>merge_idx</th>\n    </tr>\n    <tr>\n      <th>data</th>\n      <th></th>\n      <th></th>\n      <th></th>\n    </tr>\n  </thead>\n  <tbody>\n    <tr>\n      <th>2020-01-01 00:00:00+01:00</th>\n      <td>2020-01-01 00:00:00+01:00</td>\n      <td>41.88</td>\n      <td>NaN</td>\n    </tr>\n    <tr>\n      <th>2020-01-01 01:00:00+01:00</th>\n      <td>2020-01-01 01:00:00+01:00</td>\n      <td>38.60</td>\n      <td>NaN</td>\n    </tr>\n    <tr>\n      <th>2020-01-01 02:00:00+01:00</th>\n      <td>2020-01-01 02:00:00+01:00</td>\n      <td>36.55</td>\n      <td>NaN</td>\n    </tr>\n    <tr>\n      <th>2020-01-01 03:00:00+01:00</th>\n      <td>2020-01-01 03:00:00+01:00</td>\n      <td>32.32</td>\n      <td>NaN</td>\n    </tr>\n    <tr>\n      <th>2020-01-01 04:00:00+01:00</th>\n      <td>2020-01-01 04:00:00+01:00</td>\n      <td>30.85</td>\n      <td>NaN</td>\n    </tr>\n    <tr>\n      <th>...</th>\n      <td>...</td>\n      <td>...</td>\n      <td>...</td>\n    </tr>\n    <tr>\n      <th>2023-02-28 18:00:00+01:00</th>\n      <td>2023-02-28 18:00:00+01:00</td>\n      <td>193.87</td>\n      <td>NaN</td>\n    </tr>\n    <tr>\n      <th>2023-02-28 19:00:00+01:00</th>\n      <td>2023-02-28 19:00:00+01:00</td>\n      <td>193.78</td>\n      <td>NaN</td>\n    </tr>\n    <tr>\n      <th>2023-02-28 20:00:00+01:00</th>\n      <td>2023-02-28 20:00:00+01:00</td>\n      <td>174.89</td>\n      <td>NaN</td>\n    </tr>\n    <tr>\n      <th>2023-02-28 21:00:00+01:00</th>\n      <td>2023-02-28 21:00:00+01:00</td>\n      <td>158.27</td>\n      <td>NaN</td>\n    </tr>\n    <tr>\n      <th>2023-02-28 22:00:00+01:00</th>\n      <td>2023-02-28 22:00:00+01:00</td>\n      <td>153.78</td>\n      <td>NaN</td>\n    </tr>\n  </tbody>\n</table>\n<p>27719 rows × 3 columns</p>\n</div>"
     },
     "execution_count": 37,
     "metadata": {},
     "output_type": "execute_result"
    }
   ],
   "source": [
    "price['merge_idx'] = np.nan\n",
    "price"
   ],
   "metadata": {
    "collapsed": false,
    "pycharm": {
     "name": "#%%\n"
    }
   }
  },
  {
   "cell_type": "code",
   "execution_count": 20,
   "outputs": [
    {
     "data": {
      "text/plain": "'2021-01-01'"
     },
     "execution_count": 20,
     "metadata": {},
     "output_type": "execute_result"
    }
   ],
   "source": [
    "df.datetime[0]"
   ],
   "metadata": {
    "collapsed": false,
    "pycharm": {
     "name": "#%%\n"
    }
   }
  },
  {
   "cell_type": "code",
   "execution_count": 30,
   "outputs": [
    {
     "data": {
      "text/plain": "True"
     },
     "execution_count": 30,
     "metadata": {},
     "output_type": "execute_result"
    }
   ],
   "source": [
    "df.datetime[0] in str(price.data[8800])"
   ],
   "metadata": {
    "collapsed": false,
    "pycharm": {
     "name": "#%%\n"
    }
   }
  },
  {
   "cell_type": "code",
   "execution_count": 29,
   "outputs": [
    {
     "data": {
      "text/plain": "'2021-01-01 16:00:00+01:00'"
     },
     "execution_count": 29,
     "metadata": {},
     "output_type": "execute_result"
    }
   ],
   "source": [
    "str(price.data[8800])"
   ],
   "metadata": {
    "collapsed": false,
    "pycharm": {
     "name": "#%%\n"
    }
   }
  },
  {
   "cell_type": "code",
   "execution_count": 55,
   "outputs": [
    {
     "name": "stderr",
     "output_type": "stream",
     "text": [
      "100%|██████████| 789/789 [00:48<00:00, 16.23it/s]\n"
     ]
    }
   ],
   "source": [
    "for i in tqdm(df.datetime):\n",
    "    for jdx, j in enumerate(price.data):\n",
    "        if i in str(j):\n",
    "            price.at[j,'merge_idx'] = i"
   ],
   "metadata": {
    "collapsed": false,
    "pycharm": {
     "name": "#%%\n"
    }
   }
  },
  {
   "cell_type": "code",
   "execution_count": 53,
   "outputs": [],
   "source": [
    "price.at[price.data[8800],'merge_idx'] = np.nan"
   ],
   "metadata": {
    "collapsed": false,
    "pycharm": {
     "name": "#%%\n"
    }
   }
  },
  {
   "cell_type": "code",
   "execution_count": 54,
   "outputs": [
    {
     "data": {
      "text/plain": "nan"
     },
     "execution_count": 54,
     "metadata": {},
     "output_type": "execute_result"
    }
   ],
   "source": [
    "price.at[price.data[8800],'merge_idx']"
   ],
   "metadata": {
    "collapsed": false,
    "pycharm": {
     "name": "#%%\n"
    }
   }
  },
  {
   "cell_type": "code",
   "execution_count": 59,
   "outputs": [],
   "source": [
    "price = price.dropna()"
   ],
   "metadata": {
    "collapsed": false,
    "pycharm": {
     "name": "#%%\n"
    }
   }
  },
  {
   "cell_type": "code",
   "execution_count": 60,
   "outputs": [
    {
     "data": {
      "text/plain": "                                                data   price   merge_idx\ndata                                                                    \n2021-01-01 00:00:00+01:00  2021-01-01 00:00:00+01:00   50.87  2021-01-01\n2021-01-01 01:00:00+01:00  2021-01-01 01:00:00+01:00   48.19  2021-01-01\n2021-01-01 02:00:00+01:00  2021-01-01 02:00:00+01:00   44.68  2021-01-01\n2021-01-01 03:00:00+01:00  2021-01-01 03:00:00+01:00   42.92  2021-01-01\n2021-01-01 04:00:00+01:00  2021-01-01 04:00:00+01:00   40.39  2021-01-01\n...                                              ...     ...         ...\n2023-02-28 18:00:00+01:00  2023-02-28 18:00:00+01:00  193.87  2023-02-28\n2023-02-28 19:00:00+01:00  2023-02-28 19:00:00+01:00  193.78  2023-02-28\n2023-02-28 20:00:00+01:00  2023-02-28 20:00:00+01:00  174.89  2023-02-28\n2023-02-28 21:00:00+01:00  2023-02-28 21:00:00+01:00  158.27  2023-02-28\n2023-02-28 22:00:00+01:00  2023-02-28 22:00:00+01:00  153.78  2023-02-28\n\n[18935 rows x 3 columns]",
      "text/html": "<div>\n<style scoped>\n    .dataframe tbody tr th:only-of-type {\n        vertical-align: middle;\n    }\n\n    .dataframe tbody tr th {\n        vertical-align: top;\n    }\n\n    .dataframe thead th {\n        text-align: right;\n    }\n</style>\n<table border=\"1\" class=\"dataframe\">\n  <thead>\n    <tr style=\"text-align: right;\">\n      <th></th>\n      <th>data</th>\n      <th>price</th>\n      <th>merge_idx</th>\n    </tr>\n    <tr>\n      <th>data</th>\n      <th></th>\n      <th></th>\n      <th></th>\n    </tr>\n  </thead>\n  <tbody>\n    <tr>\n      <th>2021-01-01 00:00:00+01:00</th>\n      <td>2021-01-01 00:00:00+01:00</td>\n      <td>50.87</td>\n      <td>2021-01-01</td>\n    </tr>\n    <tr>\n      <th>2021-01-01 01:00:00+01:00</th>\n      <td>2021-01-01 01:00:00+01:00</td>\n      <td>48.19</td>\n      <td>2021-01-01</td>\n    </tr>\n    <tr>\n      <th>2021-01-01 02:00:00+01:00</th>\n      <td>2021-01-01 02:00:00+01:00</td>\n      <td>44.68</td>\n      <td>2021-01-01</td>\n    </tr>\n    <tr>\n      <th>2021-01-01 03:00:00+01:00</th>\n      <td>2021-01-01 03:00:00+01:00</td>\n      <td>42.92</td>\n      <td>2021-01-01</td>\n    </tr>\n    <tr>\n      <th>2021-01-01 04:00:00+01:00</th>\n      <td>2021-01-01 04:00:00+01:00</td>\n      <td>40.39</td>\n      <td>2021-01-01</td>\n    </tr>\n    <tr>\n      <th>...</th>\n      <td>...</td>\n      <td>...</td>\n      <td>...</td>\n    </tr>\n    <tr>\n      <th>2023-02-28 18:00:00+01:00</th>\n      <td>2023-02-28 18:00:00+01:00</td>\n      <td>193.87</td>\n      <td>2023-02-28</td>\n    </tr>\n    <tr>\n      <th>2023-02-28 19:00:00+01:00</th>\n      <td>2023-02-28 19:00:00+01:00</td>\n      <td>193.78</td>\n      <td>2023-02-28</td>\n    </tr>\n    <tr>\n      <th>2023-02-28 20:00:00+01:00</th>\n      <td>2023-02-28 20:00:00+01:00</td>\n      <td>174.89</td>\n      <td>2023-02-28</td>\n    </tr>\n    <tr>\n      <th>2023-02-28 21:00:00+01:00</th>\n      <td>2023-02-28 21:00:00+01:00</td>\n      <td>158.27</td>\n      <td>2023-02-28</td>\n    </tr>\n    <tr>\n      <th>2023-02-28 22:00:00+01:00</th>\n      <td>2023-02-28 22:00:00+01:00</td>\n      <td>153.78</td>\n      <td>2023-02-28</td>\n    </tr>\n  </tbody>\n</table>\n<p>18935 rows × 3 columns</p>\n</div>"
     },
     "execution_count": 60,
     "metadata": {},
     "output_type": "execute_result"
    }
   ],
   "source": [
    "price"
   ],
   "metadata": {
    "collapsed": false,
    "pycharm": {
     "name": "#%%\n"
    }
   }
  },
  {
   "cell_type": "code",
   "execution_count": 66,
   "outputs": [
    {
     "data": {
      "text/plain": "                                                data   price merge_idx_caller  \\\ndata                                                                            \n2021-01-01 00:00:00+01:00  2021-01-01 00:00:00+01:00   50.87       2021-01-01   \n2021-01-01 01:00:00+01:00  2021-01-01 01:00:00+01:00   48.19       2021-01-01   \n2021-01-01 02:00:00+01:00  2021-01-01 02:00:00+01:00   44.68       2021-01-01   \n2021-01-01 03:00:00+01:00  2021-01-01 03:00:00+01:00   42.92       2021-01-01   \n2021-01-01 04:00:00+01:00  2021-01-01 04:00:00+01:00   40.39       2021-01-01   \n...                                              ...     ...              ...   \n2023-02-28 18:00:00+01:00  2023-02-28 18:00:00+01:00  193.87       2023-02-28   \n2023-02-28 19:00:00+01:00  2023-02-28 19:00:00+01:00  193.78       2023-02-28   \n2023-02-28 20:00:00+01:00  2023-02-28 20:00:00+01:00  174.89       2023-02-28   \n2023-02-28 21:00:00+01:00  2023-02-28 21:00:00+01:00  158.27       2023-02-28   \n2023-02-28 22:00:00+01:00  2023-02-28 22:00:00+01:00  153.78       2023-02-28   \n\n                          merge_idx_other  temp  dew  humidity  windspeed  \\\ndata                                                                        \n2021-01-01 00:00:00+01:00             NaN   NaN  NaN       NaN        NaN   \n2021-01-01 01:00:00+01:00             NaN   NaN  NaN       NaN        NaN   \n2021-01-01 02:00:00+01:00             NaN   NaN  NaN       NaN        NaN   \n2021-01-01 03:00:00+01:00             NaN   NaN  NaN       NaN        NaN   \n2021-01-01 04:00:00+01:00             NaN   NaN  NaN       NaN        NaN   \n...                                   ...   ...  ...       ...        ...   \n2023-02-28 18:00:00+01:00             NaN   NaN  NaN       NaN        NaN   \n2023-02-28 19:00:00+01:00             NaN   NaN  NaN       NaN        NaN   \n2023-02-28 20:00:00+01:00             NaN   NaN  NaN       NaN        NaN   \n2023-02-28 21:00:00+01:00             NaN   NaN  NaN       NaN        NaN   \n2023-02-28 22:00:00+01:00             NaN   NaN  NaN       NaN        NaN   \n\n                           cloudcover  \ndata                                   \n2021-01-01 00:00:00+01:00         NaN  \n2021-01-01 01:00:00+01:00         NaN  \n2021-01-01 02:00:00+01:00         NaN  \n2021-01-01 03:00:00+01:00         NaN  \n2021-01-01 04:00:00+01:00         NaN  \n...                               ...  \n2023-02-28 18:00:00+01:00         NaN  \n2023-02-28 19:00:00+01:00         NaN  \n2023-02-28 20:00:00+01:00         NaN  \n2023-02-28 21:00:00+01:00         NaN  \n2023-02-28 22:00:00+01:00         NaN  \n\n[18935 rows x 9 columns]",
      "text/html": "<div>\n<style scoped>\n    .dataframe tbody tr th:only-of-type {\n        vertical-align: middle;\n    }\n\n    .dataframe tbody tr th {\n        vertical-align: top;\n    }\n\n    .dataframe thead th {\n        text-align: right;\n    }\n</style>\n<table border=\"1\" class=\"dataframe\">\n  <thead>\n    <tr style=\"text-align: right;\">\n      <th></th>\n      <th>data</th>\n      <th>price</th>\n      <th>merge_idx_caller</th>\n      <th>merge_idx_other</th>\n      <th>temp</th>\n      <th>dew</th>\n      <th>humidity</th>\n      <th>windspeed</th>\n      <th>cloudcover</th>\n    </tr>\n    <tr>\n      <th>data</th>\n      <th></th>\n      <th></th>\n      <th></th>\n      <th></th>\n      <th></th>\n      <th></th>\n      <th></th>\n      <th></th>\n      <th></th>\n    </tr>\n  </thead>\n  <tbody>\n    <tr>\n      <th>2021-01-01 00:00:00+01:00</th>\n      <td>2021-01-01 00:00:00+01:00</td>\n      <td>50.87</td>\n      <td>2021-01-01</td>\n      <td>NaN</td>\n      <td>NaN</td>\n      <td>NaN</td>\n      <td>NaN</td>\n      <td>NaN</td>\n      <td>NaN</td>\n    </tr>\n    <tr>\n      <th>2021-01-01 01:00:00+01:00</th>\n      <td>2021-01-01 01:00:00+01:00</td>\n      <td>48.19</td>\n      <td>2021-01-01</td>\n      <td>NaN</td>\n      <td>NaN</td>\n      <td>NaN</td>\n      <td>NaN</td>\n      <td>NaN</td>\n      <td>NaN</td>\n    </tr>\n    <tr>\n      <th>2021-01-01 02:00:00+01:00</th>\n      <td>2021-01-01 02:00:00+01:00</td>\n      <td>44.68</td>\n      <td>2021-01-01</td>\n      <td>NaN</td>\n      <td>NaN</td>\n      <td>NaN</td>\n      <td>NaN</td>\n      <td>NaN</td>\n      <td>NaN</td>\n    </tr>\n    <tr>\n      <th>2021-01-01 03:00:00+01:00</th>\n      <td>2021-01-01 03:00:00+01:00</td>\n      <td>42.92</td>\n      <td>2021-01-01</td>\n      <td>NaN</td>\n      <td>NaN</td>\n      <td>NaN</td>\n      <td>NaN</td>\n      <td>NaN</td>\n      <td>NaN</td>\n    </tr>\n    <tr>\n      <th>2021-01-01 04:00:00+01:00</th>\n      <td>2021-01-01 04:00:00+01:00</td>\n      <td>40.39</td>\n      <td>2021-01-01</td>\n      <td>NaN</td>\n      <td>NaN</td>\n      <td>NaN</td>\n      <td>NaN</td>\n      <td>NaN</td>\n      <td>NaN</td>\n    </tr>\n    <tr>\n      <th>...</th>\n      <td>...</td>\n      <td>...</td>\n      <td>...</td>\n      <td>...</td>\n      <td>...</td>\n      <td>...</td>\n      <td>...</td>\n      <td>...</td>\n      <td>...</td>\n    </tr>\n    <tr>\n      <th>2023-02-28 18:00:00+01:00</th>\n      <td>2023-02-28 18:00:00+01:00</td>\n      <td>193.87</td>\n      <td>2023-02-28</td>\n      <td>NaN</td>\n      <td>NaN</td>\n      <td>NaN</td>\n      <td>NaN</td>\n      <td>NaN</td>\n      <td>NaN</td>\n    </tr>\n    <tr>\n      <th>2023-02-28 19:00:00+01:00</th>\n      <td>2023-02-28 19:00:00+01:00</td>\n      <td>193.78</td>\n      <td>2023-02-28</td>\n      <td>NaN</td>\n      <td>NaN</td>\n      <td>NaN</td>\n      <td>NaN</td>\n      <td>NaN</td>\n      <td>NaN</td>\n    </tr>\n    <tr>\n      <th>2023-02-28 20:00:00+01:00</th>\n      <td>2023-02-28 20:00:00+01:00</td>\n      <td>174.89</td>\n      <td>2023-02-28</td>\n      <td>NaN</td>\n      <td>NaN</td>\n      <td>NaN</td>\n      <td>NaN</td>\n      <td>NaN</td>\n      <td>NaN</td>\n    </tr>\n    <tr>\n      <th>2023-02-28 21:00:00+01:00</th>\n      <td>2023-02-28 21:00:00+01:00</td>\n      <td>158.27</td>\n      <td>2023-02-28</td>\n      <td>NaN</td>\n      <td>NaN</td>\n      <td>NaN</td>\n      <td>NaN</td>\n      <td>NaN</td>\n      <td>NaN</td>\n    </tr>\n    <tr>\n      <th>2023-02-28 22:00:00+01:00</th>\n      <td>2023-02-28 22:00:00+01:00</td>\n      <td>153.78</td>\n      <td>2023-02-28</td>\n      <td>NaN</td>\n      <td>NaN</td>\n      <td>NaN</td>\n      <td>NaN</td>\n      <td>NaN</td>\n      <td>NaN</td>\n    </tr>\n  </tbody>\n</table>\n<p>18935 rows × 9 columns</p>\n</div>"
     },
     "execution_count": 66,
     "metadata": {},
     "output_type": "execute_result"
    }
   ],
   "source": [
    "price.join(df, lsuffix='_caller', rsuffix='_other')"
   ],
   "metadata": {
    "collapsed": false,
    "pycharm": {
     "name": "#%%\n"
    }
   }
  },
  {
   "cell_type": "code",
   "execution_count": 64,
   "outputs": [],
   "source": [
    "df.columns = ['merge_idx', 'temp', 'dew', 'humidity', 'windspeed', 'cloudcover']"
   ],
   "metadata": {
    "collapsed": false,
    "pycharm": {
     "name": "#%%\n"
    }
   }
  },
  {
   "cell_type": "code",
   "execution_count": 69,
   "outputs": [],
   "source": [
    "price = price.set_index('merge_idx').join(df.set_index('merge_idx'))"
   ],
   "metadata": {
    "collapsed": false,
    "pycharm": {
     "name": "#%%\n"
    }
   }
  },
  {
   "cell_type": "code",
   "execution_count": 71,
   "outputs": [
    {
     "data": {
      "text/plain": "                                                data   price  temp  dew  \\\ndata                                                                      \n2021-01-01 00:00:00+01:00  2021-01-01 00:00:00+01:00   50.87   1.9  0.2   \n2021-01-01 01:00:00+01:00  2021-01-01 01:00:00+01:00   48.19   1.9  0.2   \n2021-01-01 02:00:00+01:00  2021-01-01 02:00:00+01:00   44.68   1.9  0.2   \n2021-01-01 03:00:00+01:00  2021-01-01 03:00:00+01:00   42.92   1.9  0.2   \n2021-01-01 04:00:00+01:00  2021-01-01 04:00:00+01:00   40.39   1.9  0.2   \n...                                              ...     ...   ...  ...   \n2023-02-28 18:00:00+01:00  2023-02-28 18:00:00+01:00  193.87   1.2 -4.6   \n2023-02-28 19:00:00+01:00  2023-02-28 19:00:00+01:00  193.78   1.2 -4.6   \n2023-02-28 20:00:00+01:00  2023-02-28 20:00:00+01:00  174.89   1.2 -4.6   \n2023-02-28 21:00:00+01:00  2023-02-28 21:00:00+01:00  158.27   1.2 -4.6   \n2023-02-28 22:00:00+01:00  2023-02-28 22:00:00+01:00  153.78   1.2 -4.6   \n\n                           humidity  windspeed  cloudcover  \ndata                                                        \n2021-01-01 00:00:00+01:00      88.5       10.0        63.9  \n2021-01-01 01:00:00+01:00      88.5       10.0        63.9  \n2021-01-01 02:00:00+01:00      88.5       10.0        63.9  \n2021-01-01 03:00:00+01:00      88.5       10.0        63.9  \n2021-01-01 04:00:00+01:00      88.5       10.0        63.9  \n...                             ...        ...         ...  \n2023-02-28 18:00:00+01:00      67.1       13.0        17.6  \n2023-02-28 19:00:00+01:00      67.1       13.0        17.6  \n2023-02-28 20:00:00+01:00      67.1       13.0        17.6  \n2023-02-28 21:00:00+01:00      67.1       13.0        17.6  \n2023-02-28 22:00:00+01:00      67.1       13.0        17.6  \n\n[18935 rows x 7 columns]",
      "text/html": "<div>\n<style scoped>\n    .dataframe tbody tr th:only-of-type {\n        vertical-align: middle;\n    }\n\n    .dataframe tbody tr th {\n        vertical-align: top;\n    }\n\n    .dataframe thead th {\n        text-align: right;\n    }\n</style>\n<table border=\"1\" class=\"dataframe\">\n  <thead>\n    <tr style=\"text-align: right;\">\n      <th></th>\n      <th>data</th>\n      <th>price</th>\n      <th>temp</th>\n      <th>dew</th>\n      <th>humidity</th>\n      <th>windspeed</th>\n      <th>cloudcover</th>\n    </tr>\n    <tr>\n      <th>data</th>\n      <th></th>\n      <th></th>\n      <th></th>\n      <th></th>\n      <th></th>\n      <th></th>\n      <th></th>\n    </tr>\n  </thead>\n  <tbody>\n    <tr>\n      <th>2021-01-01 00:00:00+01:00</th>\n      <td>2021-01-01 00:00:00+01:00</td>\n      <td>50.87</td>\n      <td>1.9</td>\n      <td>0.2</td>\n      <td>88.5</td>\n      <td>10.0</td>\n      <td>63.9</td>\n    </tr>\n    <tr>\n      <th>2021-01-01 01:00:00+01:00</th>\n      <td>2021-01-01 01:00:00+01:00</td>\n      <td>48.19</td>\n      <td>1.9</td>\n      <td>0.2</td>\n      <td>88.5</td>\n      <td>10.0</td>\n      <td>63.9</td>\n    </tr>\n    <tr>\n      <th>2021-01-01 02:00:00+01:00</th>\n      <td>2021-01-01 02:00:00+01:00</td>\n      <td>44.68</td>\n      <td>1.9</td>\n      <td>0.2</td>\n      <td>88.5</td>\n      <td>10.0</td>\n      <td>63.9</td>\n    </tr>\n    <tr>\n      <th>2021-01-01 03:00:00+01:00</th>\n      <td>2021-01-01 03:00:00+01:00</td>\n      <td>42.92</td>\n      <td>1.9</td>\n      <td>0.2</td>\n      <td>88.5</td>\n      <td>10.0</td>\n      <td>63.9</td>\n    </tr>\n    <tr>\n      <th>2021-01-01 04:00:00+01:00</th>\n      <td>2021-01-01 04:00:00+01:00</td>\n      <td>40.39</td>\n      <td>1.9</td>\n      <td>0.2</td>\n      <td>88.5</td>\n      <td>10.0</td>\n      <td>63.9</td>\n    </tr>\n    <tr>\n      <th>...</th>\n      <td>...</td>\n      <td>...</td>\n      <td>...</td>\n      <td>...</td>\n      <td>...</td>\n      <td>...</td>\n      <td>...</td>\n    </tr>\n    <tr>\n      <th>2023-02-28 18:00:00+01:00</th>\n      <td>2023-02-28 18:00:00+01:00</td>\n      <td>193.87</td>\n      <td>1.2</td>\n      <td>-4.6</td>\n      <td>67.1</td>\n      <td>13.0</td>\n      <td>17.6</td>\n    </tr>\n    <tr>\n      <th>2023-02-28 19:00:00+01:00</th>\n      <td>2023-02-28 19:00:00+01:00</td>\n      <td>193.78</td>\n      <td>1.2</td>\n      <td>-4.6</td>\n      <td>67.1</td>\n      <td>13.0</td>\n      <td>17.6</td>\n    </tr>\n    <tr>\n      <th>2023-02-28 20:00:00+01:00</th>\n      <td>2023-02-28 20:00:00+01:00</td>\n      <td>174.89</td>\n      <td>1.2</td>\n      <td>-4.6</td>\n      <td>67.1</td>\n      <td>13.0</td>\n      <td>17.6</td>\n    </tr>\n    <tr>\n      <th>2023-02-28 21:00:00+01:00</th>\n      <td>2023-02-28 21:00:00+01:00</td>\n      <td>158.27</td>\n      <td>1.2</td>\n      <td>-4.6</td>\n      <td>67.1</td>\n      <td>13.0</td>\n      <td>17.6</td>\n    </tr>\n    <tr>\n      <th>2023-02-28 22:00:00+01:00</th>\n      <td>2023-02-28 22:00:00+01:00</td>\n      <td>153.78</td>\n      <td>1.2</td>\n      <td>-4.6</td>\n      <td>67.1</td>\n      <td>13.0</td>\n      <td>17.6</td>\n    </tr>\n  </tbody>\n</table>\n<p>18935 rows × 7 columns</p>\n</div>"
     },
     "execution_count": 71,
     "metadata": {},
     "output_type": "execute_result"
    }
   ],
   "source": [
    "price.set_index(price.data)"
   ],
   "metadata": {
    "collapsed": false,
    "pycharm": {
     "name": "#%%\n"
    }
   }
  },
  {
   "cell_type": "code",
   "execution_count": null,
   "outputs": [],
   "source": [],
   "metadata": {
    "collapsed": false,
    "pycharm": {
     "name": "#%%\n"
    }
   }
  }
 ],
 "metadata": {
  "kernelspec": {
   "display_name": "Python 3",
   "language": "python",
   "name": "python3"
  },
  "language_info": {
   "codemirror_mode": {
    "name": "ipython",
    "version": 2
   },
   "file_extension": ".py",
   "mimetype": "text/x-python",
   "name": "python",
   "nbconvert_exporter": "python",
   "pygments_lexer": "ipython2",
   "version": "2.7.6"
  }
 },
 "nbformat": 4,
 "nbformat_minor": 0
}