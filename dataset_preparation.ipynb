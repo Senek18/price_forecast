{
 "cells": [
  {
   "cell_type": "code",
   "execution_count": 1,
   "outputs": [],
   "source": [
    "import pandas as pd"
   ],
   "metadata": {
    "collapsed": false,
    "pycharm": {
     "name": "#%%\n"
    }
   }
  },
  {
   "cell_type": "code",
   "execution_count": 5,
   "outputs": [],
   "source": [
    "df = pd.read_csv(\"germany_full.csv\")\n",
    "df1 = pd.read_csv(\"germany_generation.csv\")\n",
    "df1=  df1.drop(\"Unnamed: 0\", axis=1)"
   ],
   "metadata": {
    "collapsed": false,
    "pycharm": {
     "name": "#%%\n"
    }
   }
  },
  {
   "cell_type": "code",
   "execution_count": 7,
   "outputs": [
    {
     "data": {
      "text/plain": "        merge_idx                       data   price  temp  dew  humidity  \\\n0      2021-01-01  2021-01-01 00:00:00+01:00   50.87   1.9  0.2      88.5   \n1      2021-01-01  2021-01-01 01:00:00+01:00   48.19   1.9  0.2      88.5   \n2      2021-01-01  2021-01-01 02:00:00+01:00   44.68   1.9  0.2      88.5   \n3      2021-01-01  2021-01-01 03:00:00+01:00   42.92   1.9  0.2      88.5   \n4      2021-01-01  2021-01-01 04:00:00+01:00   40.39   1.9  0.2      88.5   \n...           ...                        ...     ...   ...  ...       ...   \n18930  2023-02-28  2023-02-28 18:00:00+01:00  193.87   1.2 -4.6      67.1   \n18931  2023-02-28  2023-02-28 19:00:00+01:00  193.78   1.2 -4.6      67.1   \n18932  2023-02-28  2023-02-28 20:00:00+01:00  174.89   1.2 -4.6      67.1   \n18933  2023-02-28  2023-02-28 21:00:00+01:00  158.27   1.2 -4.6      67.1   \n18934  2023-02-28  2023-02-28 22:00:00+01:00  153.78   1.2 -4.6      67.1   \n\n       windspeed  cloudcover  \n0           10.0        63.9  \n1           10.0        63.9  \n2           10.0        63.9  \n3           10.0        63.9  \n4           10.0        63.9  \n...          ...         ...  \n18930       13.0        17.6  \n18931       13.0        17.6  \n18932       13.0        17.6  \n18933       13.0        17.6  \n18934       13.0        17.6  \n\n[18935 rows x 8 columns]",
      "text/html": "<div>\n<style scoped>\n    .dataframe tbody tr th:only-of-type {\n        vertical-align: middle;\n    }\n\n    .dataframe tbody tr th {\n        vertical-align: top;\n    }\n\n    .dataframe thead th {\n        text-align: right;\n    }\n</style>\n<table border=\"1\" class=\"dataframe\">\n  <thead>\n    <tr style=\"text-align: right;\">\n      <th></th>\n      <th>merge_idx</th>\n      <th>data</th>\n      <th>price</th>\n      <th>temp</th>\n      <th>dew</th>\n      <th>humidity</th>\n      <th>windspeed</th>\n      <th>cloudcover</th>\n    </tr>\n  </thead>\n  <tbody>\n    <tr>\n      <th>0</th>\n      <td>2021-01-01</td>\n      <td>2021-01-01 00:00:00+01:00</td>\n      <td>50.87</td>\n      <td>1.9</td>\n      <td>0.2</td>\n      <td>88.5</td>\n      <td>10.0</td>\n      <td>63.9</td>\n    </tr>\n    <tr>\n      <th>1</th>\n      <td>2021-01-01</td>\n      <td>2021-01-01 01:00:00+01:00</td>\n      <td>48.19</td>\n      <td>1.9</td>\n      <td>0.2</td>\n      <td>88.5</td>\n      <td>10.0</td>\n      <td>63.9</td>\n    </tr>\n    <tr>\n      <th>2</th>\n      <td>2021-01-01</td>\n      <td>2021-01-01 02:00:00+01:00</td>\n      <td>44.68</td>\n      <td>1.9</td>\n      <td>0.2</td>\n      <td>88.5</td>\n      <td>10.0</td>\n      <td>63.9</td>\n    </tr>\n    <tr>\n      <th>3</th>\n      <td>2021-01-01</td>\n      <td>2021-01-01 03:00:00+01:00</td>\n      <td>42.92</td>\n      <td>1.9</td>\n      <td>0.2</td>\n      <td>88.5</td>\n      <td>10.0</td>\n      <td>63.9</td>\n    </tr>\n    <tr>\n      <th>4</th>\n      <td>2021-01-01</td>\n      <td>2021-01-01 04:00:00+01:00</td>\n      <td>40.39</td>\n      <td>1.9</td>\n      <td>0.2</td>\n      <td>88.5</td>\n      <td>10.0</td>\n      <td>63.9</td>\n    </tr>\n    <tr>\n      <th>...</th>\n      <td>...</td>\n      <td>...</td>\n      <td>...</td>\n      <td>...</td>\n      <td>...</td>\n      <td>...</td>\n      <td>...</td>\n      <td>...</td>\n    </tr>\n    <tr>\n      <th>18930</th>\n      <td>2023-02-28</td>\n      <td>2023-02-28 18:00:00+01:00</td>\n      <td>193.87</td>\n      <td>1.2</td>\n      <td>-4.6</td>\n      <td>67.1</td>\n      <td>13.0</td>\n      <td>17.6</td>\n    </tr>\n    <tr>\n      <th>18931</th>\n      <td>2023-02-28</td>\n      <td>2023-02-28 19:00:00+01:00</td>\n      <td>193.78</td>\n      <td>1.2</td>\n      <td>-4.6</td>\n      <td>67.1</td>\n      <td>13.0</td>\n      <td>17.6</td>\n    </tr>\n    <tr>\n      <th>18932</th>\n      <td>2023-02-28</td>\n      <td>2023-02-28 20:00:00+01:00</td>\n      <td>174.89</td>\n      <td>1.2</td>\n      <td>-4.6</td>\n      <td>67.1</td>\n      <td>13.0</td>\n      <td>17.6</td>\n    </tr>\n    <tr>\n      <th>18933</th>\n      <td>2023-02-28</td>\n      <td>2023-02-28 21:00:00+01:00</td>\n      <td>158.27</td>\n      <td>1.2</td>\n      <td>-4.6</td>\n      <td>67.1</td>\n      <td>13.0</td>\n      <td>17.6</td>\n    </tr>\n    <tr>\n      <th>18934</th>\n      <td>2023-02-28</td>\n      <td>2023-02-28 22:00:00+01:00</td>\n      <td>153.78</td>\n      <td>1.2</td>\n      <td>-4.6</td>\n      <td>67.1</td>\n      <td>13.0</td>\n      <td>17.6</td>\n    </tr>\n  </tbody>\n</table>\n<p>18935 rows × 8 columns</p>\n</div>"
     },
     "execution_count": 7,
     "metadata": {},
     "output_type": "execute_result"
    }
   ],
   "source": [
    "df"
   ],
   "metadata": {
    "collapsed": false,
    "pycharm": {
     "name": "#%%\n"
    }
   }
  },
  {
   "cell_type": "code",
   "execution_count": 6,
   "outputs": [
    {
     "data": {
      "text/plain": "       Biomass  Fossil Brown coal/Lignite  Fossil Gas  Fossil Hard coal  \\\n0      4631.25                   11608.50     5657.00           3443.75   \n1      4619.25                   11602.75     5417.00           3044.75   \n2      4617.25                   11758.50     5319.00           3067.25   \n3      4606.00                   12337.50     5134.50           2852.50   \n4      4606.75                   12395.00     4999.50           2713.25   \n...        ...                        ...         ...               ...   \n18907  5027.25                   15054.50    12124.75          12762.75   \n18908  5065.25                   15048.00    11996.25          12676.25   \n18909  5099.25                   15075.50    11857.75          12462.75   \n18910  5103.25                   15243.00    11327.00          11736.50   \n18911  5070.75                   15258.75    10144.50          10814.00   \n\n       Fossil Oil  Geothermal  Hydro Pumped Storage  \\\n0          405.00        31.0                347.25   \n1          405.00        31.0                518.50   \n2          405.50        31.0                219.00   \n3          405.50        31.0                  2.00   \n4          404.75        31.0                  6.00   \n...           ...         ...                   ...   \n18907        8.00        23.0               6041.25   \n18908        8.00        23.0               2795.75   \n18909        8.00        23.0                950.25   \n18910        8.00        23.0                551.50   \n18911        8.00        23.0                200.00   \n\n       Hydro Run-of-river and poundage  Hydro Water Reservoir  Nuclear  \\\n0                              1182.00                  48.25  8144.75   \n1                              1174.75                  46.25  8150.25   \n2                              1158.25                  30.25  8156.50   \n3                              1155.50                  48.75  8153.75   \n4                              1152.50                  26.75  8150.50   \n...                                ...                    ...      ...   \n18907                          1074.25                 194.50  2982.00   \n18908                          1066.00                 189.25  2981.75   \n18909                          1062.00                  78.00  2982.50   \n18910                          1054.50                 120.75  2983.00   \n18911                          1064.50                 190.25  2983.25   \n\n        Other  Other renewable  Solar   Waste  Wind Offshore  Wind Onshore  \n0      454.25           196.00    0.0  787.00         383.00       3943.00  \n1      454.00           196.00    0.0  785.75         394.50       3549.75  \n2      454.00           196.00    0.0  779.00         305.25       3223.25  \n3      454.25           196.00    0.0  770.75         319.25       2793.75  \n4      465.00           200.75    0.0  760.50         296.25       2499.25  \n...       ...              ...    ...     ...            ...           ...  \n18907  324.00           172.00    0.0  866.75         661.50       7556.00  \n18908  324.00           172.00    0.0  867.50         585.25       7357.25  \n18909  326.00           172.75    0.0  867.75         650.25       7179.25  \n18910  316.25           168.25    0.0  861.75         819.50       6800.50  \n18911  295.00           158.00    0.0  864.00         864.50       6545.75  \n\n[18912 rows x 16 columns]",
      "text/html": "<div>\n<style scoped>\n    .dataframe tbody tr th:only-of-type {\n        vertical-align: middle;\n    }\n\n    .dataframe tbody tr th {\n        vertical-align: top;\n    }\n\n    .dataframe thead th {\n        text-align: right;\n    }\n</style>\n<table border=\"1\" class=\"dataframe\">\n  <thead>\n    <tr style=\"text-align: right;\">\n      <th></th>\n      <th>Biomass</th>\n      <th>Fossil Brown coal/Lignite</th>\n      <th>Fossil Gas</th>\n      <th>Fossil Hard coal</th>\n      <th>Fossil Oil</th>\n      <th>Geothermal</th>\n      <th>Hydro Pumped Storage</th>\n      <th>Hydro Run-of-river and poundage</th>\n      <th>Hydro Water Reservoir</th>\n      <th>Nuclear</th>\n      <th>Other</th>\n      <th>Other renewable</th>\n      <th>Solar</th>\n      <th>Waste</th>\n      <th>Wind Offshore</th>\n      <th>Wind Onshore</th>\n    </tr>\n  </thead>\n  <tbody>\n    <tr>\n      <th>0</th>\n      <td>4631.25</td>\n      <td>11608.50</td>\n      <td>5657.00</td>\n      <td>3443.75</td>\n      <td>405.00</td>\n      <td>31.0</td>\n      <td>347.25</td>\n      <td>1182.00</td>\n      <td>48.25</td>\n      <td>8144.75</td>\n      <td>454.25</td>\n      <td>196.00</td>\n      <td>0.0</td>\n      <td>787.00</td>\n      <td>383.00</td>\n      <td>3943.00</td>\n    </tr>\n    <tr>\n      <th>1</th>\n      <td>4619.25</td>\n      <td>11602.75</td>\n      <td>5417.00</td>\n      <td>3044.75</td>\n      <td>405.00</td>\n      <td>31.0</td>\n      <td>518.50</td>\n      <td>1174.75</td>\n      <td>46.25</td>\n      <td>8150.25</td>\n      <td>454.00</td>\n      <td>196.00</td>\n      <td>0.0</td>\n      <td>785.75</td>\n      <td>394.50</td>\n      <td>3549.75</td>\n    </tr>\n    <tr>\n      <th>2</th>\n      <td>4617.25</td>\n      <td>11758.50</td>\n      <td>5319.00</td>\n      <td>3067.25</td>\n      <td>405.50</td>\n      <td>31.0</td>\n      <td>219.00</td>\n      <td>1158.25</td>\n      <td>30.25</td>\n      <td>8156.50</td>\n      <td>454.00</td>\n      <td>196.00</td>\n      <td>0.0</td>\n      <td>779.00</td>\n      <td>305.25</td>\n      <td>3223.25</td>\n    </tr>\n    <tr>\n      <th>3</th>\n      <td>4606.00</td>\n      <td>12337.50</td>\n      <td>5134.50</td>\n      <td>2852.50</td>\n      <td>405.50</td>\n      <td>31.0</td>\n      <td>2.00</td>\n      <td>1155.50</td>\n      <td>48.75</td>\n      <td>8153.75</td>\n      <td>454.25</td>\n      <td>196.00</td>\n      <td>0.0</td>\n      <td>770.75</td>\n      <td>319.25</td>\n      <td>2793.75</td>\n    </tr>\n    <tr>\n      <th>4</th>\n      <td>4606.75</td>\n      <td>12395.00</td>\n      <td>4999.50</td>\n      <td>2713.25</td>\n      <td>404.75</td>\n      <td>31.0</td>\n      <td>6.00</td>\n      <td>1152.50</td>\n      <td>26.75</td>\n      <td>8150.50</td>\n      <td>465.00</td>\n      <td>200.75</td>\n      <td>0.0</td>\n      <td>760.50</td>\n      <td>296.25</td>\n      <td>2499.25</td>\n    </tr>\n    <tr>\n      <th>...</th>\n      <td>...</td>\n      <td>...</td>\n      <td>...</td>\n      <td>...</td>\n      <td>...</td>\n      <td>...</td>\n      <td>...</td>\n      <td>...</td>\n      <td>...</td>\n      <td>...</td>\n      <td>...</td>\n      <td>...</td>\n      <td>...</td>\n      <td>...</td>\n      <td>...</td>\n      <td>...</td>\n    </tr>\n    <tr>\n      <th>18907</th>\n      <td>5027.25</td>\n      <td>15054.50</td>\n      <td>12124.75</td>\n      <td>12762.75</td>\n      <td>8.00</td>\n      <td>23.0</td>\n      <td>6041.25</td>\n      <td>1074.25</td>\n      <td>194.50</td>\n      <td>2982.00</td>\n      <td>324.00</td>\n      <td>172.00</td>\n      <td>0.0</td>\n      <td>866.75</td>\n      <td>661.50</td>\n      <td>7556.00</td>\n    </tr>\n    <tr>\n      <th>18908</th>\n      <td>5065.25</td>\n      <td>15048.00</td>\n      <td>11996.25</td>\n      <td>12676.25</td>\n      <td>8.00</td>\n      <td>23.0</td>\n      <td>2795.75</td>\n      <td>1066.00</td>\n      <td>189.25</td>\n      <td>2981.75</td>\n      <td>324.00</td>\n      <td>172.00</td>\n      <td>0.0</td>\n      <td>867.50</td>\n      <td>585.25</td>\n      <td>7357.25</td>\n    </tr>\n    <tr>\n      <th>18909</th>\n      <td>5099.25</td>\n      <td>15075.50</td>\n      <td>11857.75</td>\n      <td>12462.75</td>\n      <td>8.00</td>\n      <td>23.0</td>\n      <td>950.25</td>\n      <td>1062.00</td>\n      <td>78.00</td>\n      <td>2982.50</td>\n      <td>326.00</td>\n      <td>172.75</td>\n      <td>0.0</td>\n      <td>867.75</td>\n      <td>650.25</td>\n      <td>7179.25</td>\n    </tr>\n    <tr>\n      <th>18910</th>\n      <td>5103.25</td>\n      <td>15243.00</td>\n      <td>11327.00</td>\n      <td>11736.50</td>\n      <td>8.00</td>\n      <td>23.0</td>\n      <td>551.50</td>\n      <td>1054.50</td>\n      <td>120.75</td>\n      <td>2983.00</td>\n      <td>316.25</td>\n      <td>168.25</td>\n      <td>0.0</td>\n      <td>861.75</td>\n      <td>819.50</td>\n      <td>6800.50</td>\n    </tr>\n    <tr>\n      <th>18911</th>\n      <td>5070.75</td>\n      <td>15258.75</td>\n      <td>10144.50</td>\n      <td>10814.00</td>\n      <td>8.00</td>\n      <td>23.0</td>\n      <td>200.00</td>\n      <td>1064.50</td>\n      <td>190.25</td>\n      <td>2983.25</td>\n      <td>295.00</td>\n      <td>158.00</td>\n      <td>0.0</td>\n      <td>864.00</td>\n      <td>864.50</td>\n      <td>6545.75</td>\n    </tr>\n  </tbody>\n</table>\n<p>18912 rows × 16 columns</p>\n</div>"
     },
     "execution_count": 6,
     "metadata": {},
     "output_type": "execute_result"
    }
   ],
   "source": [
    "df1"
   ],
   "metadata": {
    "collapsed": false,
    "pycharm": {
     "name": "#%%\n"
    }
   }
  },
  {
   "cell_type": "code",
   "execution_count": 10,
   "outputs": [],
   "source": [
    "new_df = df.join(df1, lsuffix='_caller', rsuffix='_other')"
   ],
   "metadata": {
    "collapsed": false,
    "pycharm": {
     "name": "#%%\n"
    }
   }
  },
  {
   "cell_type": "code",
   "execution_count": 13,
   "outputs": [],
   "source": [
    "new_df = new_df.dropna()"
   ],
   "metadata": {
    "collapsed": false,
    "pycharm": {
     "name": "#%%\n"
    }
   }
  },
  {
   "cell_type": "code",
   "execution_count": 14,
   "outputs": [
    {
     "data": {
      "text/plain": "    merge_idx                       data  price  temp  dew  humidity  \\\n0  2021-01-01  2021-01-01 00:00:00+01:00  50.87   1.9  0.2      88.5   \n1  2021-01-01  2021-01-01 01:00:00+01:00  48.19   1.9  0.2      88.5   \n2  2021-01-01  2021-01-01 02:00:00+01:00  44.68   1.9  0.2      88.5   \n3  2021-01-01  2021-01-01 03:00:00+01:00  42.92   1.9  0.2      88.5   \n4  2021-01-01  2021-01-01 04:00:00+01:00  40.39   1.9  0.2      88.5   \n\n   windspeed  cloudcover  Biomass  Fossil Brown coal/Lignite  ...  \\\n0       10.0        63.9  4631.25                   11608.50  ...   \n1       10.0        63.9  4619.25                   11602.75  ...   \n2       10.0        63.9  4617.25                   11758.50  ...   \n3       10.0        63.9  4606.00                   12337.50  ...   \n4       10.0        63.9  4606.75                   12395.00  ...   \n\n   Hydro Pumped Storage  Hydro Run-of-river and poundage  \\\n0                347.25                          1182.00   \n1                518.50                          1174.75   \n2                219.00                          1158.25   \n3                  2.00                          1155.50   \n4                  6.00                          1152.50   \n\n   Hydro Water Reservoir  Nuclear   Other  Other renewable  Solar   Waste  \\\n0                  48.25  8144.75  454.25           196.00    0.0  787.00   \n1                  46.25  8150.25  454.00           196.00    0.0  785.75   \n2                  30.25  8156.50  454.00           196.00    0.0  779.00   \n3                  48.75  8153.75  454.25           196.00    0.0  770.75   \n4                  26.75  8150.50  465.00           200.75    0.0  760.50   \n\n   Wind Offshore  Wind Onshore  \n0         383.00       3943.00  \n1         394.50       3549.75  \n2         305.25       3223.25  \n3         319.25       2793.75  \n4         296.25       2499.25  \n\n[5 rows x 24 columns]",
      "text/html": "<div>\n<style scoped>\n    .dataframe tbody tr th:only-of-type {\n        vertical-align: middle;\n    }\n\n    .dataframe tbody tr th {\n        vertical-align: top;\n    }\n\n    .dataframe thead th {\n        text-align: right;\n    }\n</style>\n<table border=\"1\" class=\"dataframe\">\n  <thead>\n    <tr style=\"text-align: right;\">\n      <th></th>\n      <th>merge_idx</th>\n      <th>data</th>\n      <th>price</th>\n      <th>temp</th>\n      <th>dew</th>\n      <th>humidity</th>\n      <th>windspeed</th>\n      <th>cloudcover</th>\n      <th>Biomass</th>\n      <th>Fossil Brown coal/Lignite</th>\n      <th>...</th>\n      <th>Hydro Pumped Storage</th>\n      <th>Hydro Run-of-river and poundage</th>\n      <th>Hydro Water Reservoir</th>\n      <th>Nuclear</th>\n      <th>Other</th>\n      <th>Other renewable</th>\n      <th>Solar</th>\n      <th>Waste</th>\n      <th>Wind Offshore</th>\n      <th>Wind Onshore</th>\n    </tr>\n  </thead>\n  <tbody>\n    <tr>\n      <th>0</th>\n      <td>2021-01-01</td>\n      <td>2021-01-01 00:00:00+01:00</td>\n      <td>50.87</td>\n      <td>1.9</td>\n      <td>0.2</td>\n      <td>88.5</td>\n      <td>10.0</td>\n      <td>63.9</td>\n      <td>4631.25</td>\n      <td>11608.50</td>\n      <td>...</td>\n      <td>347.25</td>\n      <td>1182.00</td>\n      <td>48.25</td>\n      <td>8144.75</td>\n      <td>454.25</td>\n      <td>196.00</td>\n      <td>0.0</td>\n      <td>787.00</td>\n      <td>383.00</td>\n      <td>3943.00</td>\n    </tr>\n    <tr>\n      <th>1</th>\n      <td>2021-01-01</td>\n      <td>2021-01-01 01:00:00+01:00</td>\n      <td>48.19</td>\n      <td>1.9</td>\n      <td>0.2</td>\n      <td>88.5</td>\n      <td>10.0</td>\n      <td>63.9</td>\n      <td>4619.25</td>\n      <td>11602.75</td>\n      <td>...</td>\n      <td>518.50</td>\n      <td>1174.75</td>\n      <td>46.25</td>\n      <td>8150.25</td>\n      <td>454.00</td>\n      <td>196.00</td>\n      <td>0.0</td>\n      <td>785.75</td>\n      <td>394.50</td>\n      <td>3549.75</td>\n    </tr>\n    <tr>\n      <th>2</th>\n      <td>2021-01-01</td>\n      <td>2021-01-01 02:00:00+01:00</td>\n      <td>44.68</td>\n      <td>1.9</td>\n      <td>0.2</td>\n      <td>88.5</td>\n      <td>10.0</td>\n      <td>63.9</td>\n      <td>4617.25</td>\n      <td>11758.50</td>\n      <td>...</td>\n      <td>219.00</td>\n      <td>1158.25</td>\n      <td>30.25</td>\n      <td>8156.50</td>\n      <td>454.00</td>\n      <td>196.00</td>\n      <td>0.0</td>\n      <td>779.00</td>\n      <td>305.25</td>\n      <td>3223.25</td>\n    </tr>\n    <tr>\n      <th>3</th>\n      <td>2021-01-01</td>\n      <td>2021-01-01 03:00:00+01:00</td>\n      <td>42.92</td>\n      <td>1.9</td>\n      <td>0.2</td>\n      <td>88.5</td>\n      <td>10.0</td>\n      <td>63.9</td>\n      <td>4606.00</td>\n      <td>12337.50</td>\n      <td>...</td>\n      <td>2.00</td>\n      <td>1155.50</td>\n      <td>48.75</td>\n      <td>8153.75</td>\n      <td>454.25</td>\n      <td>196.00</td>\n      <td>0.0</td>\n      <td>770.75</td>\n      <td>319.25</td>\n      <td>2793.75</td>\n    </tr>\n    <tr>\n      <th>4</th>\n      <td>2021-01-01</td>\n      <td>2021-01-01 04:00:00+01:00</td>\n      <td>40.39</td>\n      <td>1.9</td>\n      <td>0.2</td>\n      <td>88.5</td>\n      <td>10.0</td>\n      <td>63.9</td>\n      <td>4606.75</td>\n      <td>12395.00</td>\n      <td>...</td>\n      <td>6.00</td>\n      <td>1152.50</td>\n      <td>26.75</td>\n      <td>8150.50</td>\n      <td>465.00</td>\n      <td>200.75</td>\n      <td>0.0</td>\n      <td>760.50</td>\n      <td>296.25</td>\n      <td>2499.25</td>\n    </tr>\n  </tbody>\n</table>\n<p>5 rows × 24 columns</p>\n</div>"
     },
     "execution_count": 14,
     "metadata": {},
     "output_type": "execute_result"
    }
   ],
   "source": [
    "new_df.head()"
   ],
   "metadata": {
    "collapsed": false,
    "pycharm": {
     "name": "#%%\n"
    }
   }
  },
  {
   "cell_type": "code",
   "execution_count": 15,
   "outputs": [
    {
     "data": {
      "text/plain": "                           price  temp  dew  humidity  windspeed  cloudcover  \\\ndata                                                                           \n2021-01-01 00:00:00+01:00  50.87   1.9  0.2      88.5       10.0        63.9   \n2021-01-01 01:00:00+01:00  48.19   1.9  0.2      88.5       10.0        63.9   \n2021-01-01 02:00:00+01:00  44.68   1.9  0.2      88.5       10.0        63.9   \n2021-01-01 03:00:00+01:00  42.92   1.9  0.2      88.5       10.0        63.9   \n2021-01-01 04:00:00+01:00  40.39   1.9  0.2      88.5       10.0        63.9   \n\n                           Biomass  Fossil Brown coal/Lignite  Fossil Gas  \\\ndata                                                                        \n2021-01-01 00:00:00+01:00  4631.25                   11608.50      5657.0   \n2021-01-01 01:00:00+01:00  4619.25                   11602.75      5417.0   \n2021-01-01 02:00:00+01:00  4617.25                   11758.50      5319.0   \n2021-01-01 03:00:00+01:00  4606.00                   12337.50      5134.5   \n2021-01-01 04:00:00+01:00  4606.75                   12395.00      4999.5   \n\n                           Fossil Hard coal  ...  Hydro Pumped Storage  \\\ndata                                         ...                         \n2021-01-01 00:00:00+01:00           3443.75  ...                347.25   \n2021-01-01 01:00:00+01:00           3044.75  ...                518.50   \n2021-01-01 02:00:00+01:00           3067.25  ...                219.00   \n2021-01-01 03:00:00+01:00           2852.50  ...                  2.00   \n2021-01-01 04:00:00+01:00           2713.25  ...                  6.00   \n\n                           Hydro Run-of-river and poundage  \\\ndata                                                         \n2021-01-01 00:00:00+01:00                          1182.00   \n2021-01-01 01:00:00+01:00                          1174.75   \n2021-01-01 02:00:00+01:00                          1158.25   \n2021-01-01 03:00:00+01:00                          1155.50   \n2021-01-01 04:00:00+01:00                          1152.50   \n\n                           Hydro Water Reservoir  Nuclear   Other  \\\ndata                                                                \n2021-01-01 00:00:00+01:00                  48.25  8144.75  454.25   \n2021-01-01 01:00:00+01:00                  46.25  8150.25  454.00   \n2021-01-01 02:00:00+01:00                  30.25  8156.50  454.00   \n2021-01-01 03:00:00+01:00                  48.75  8153.75  454.25   \n2021-01-01 04:00:00+01:00                  26.75  8150.50  465.00   \n\n                           Other renewable  Solar   Waste  Wind Offshore  \\\ndata                                                                       \n2021-01-01 00:00:00+01:00           196.00    0.0  787.00         383.00   \n2021-01-01 01:00:00+01:00           196.00    0.0  785.75         394.50   \n2021-01-01 02:00:00+01:00           196.00    0.0  779.00         305.25   \n2021-01-01 03:00:00+01:00           196.00    0.0  770.75         319.25   \n2021-01-01 04:00:00+01:00           200.75    0.0  760.50         296.25   \n\n                           Wind Onshore  \ndata                                     \n2021-01-01 00:00:00+01:00       3943.00  \n2021-01-01 01:00:00+01:00       3549.75  \n2021-01-01 02:00:00+01:00       3223.25  \n2021-01-01 03:00:00+01:00       2793.75  \n2021-01-01 04:00:00+01:00       2499.25  \n\n[5 rows x 22 columns]",
      "text/html": "<div>\n<style scoped>\n    .dataframe tbody tr th:only-of-type {\n        vertical-align: middle;\n    }\n\n    .dataframe tbody tr th {\n        vertical-align: top;\n    }\n\n    .dataframe thead th {\n        text-align: right;\n    }\n</style>\n<table border=\"1\" class=\"dataframe\">\n  <thead>\n    <tr style=\"text-align: right;\">\n      <th></th>\n      <th>price</th>\n      <th>temp</th>\n      <th>dew</th>\n      <th>humidity</th>\n      <th>windspeed</th>\n      <th>cloudcover</th>\n      <th>Biomass</th>\n      <th>Fossil Brown coal/Lignite</th>\n      <th>Fossil Gas</th>\n      <th>Fossil Hard coal</th>\n      <th>...</th>\n      <th>Hydro Pumped Storage</th>\n      <th>Hydro Run-of-river and poundage</th>\n      <th>Hydro Water Reservoir</th>\n      <th>Nuclear</th>\n      <th>Other</th>\n      <th>Other renewable</th>\n      <th>Solar</th>\n      <th>Waste</th>\n      <th>Wind Offshore</th>\n      <th>Wind Onshore</th>\n    </tr>\n    <tr>\n      <th>data</th>\n      <th></th>\n      <th></th>\n      <th></th>\n      <th></th>\n      <th></th>\n      <th></th>\n      <th></th>\n      <th></th>\n      <th></th>\n      <th></th>\n      <th></th>\n      <th></th>\n      <th></th>\n      <th></th>\n      <th></th>\n      <th></th>\n      <th></th>\n      <th></th>\n      <th></th>\n      <th></th>\n      <th></th>\n    </tr>\n  </thead>\n  <tbody>\n    <tr>\n      <th>2021-01-01 00:00:00+01:00</th>\n      <td>50.87</td>\n      <td>1.9</td>\n      <td>0.2</td>\n      <td>88.5</td>\n      <td>10.0</td>\n      <td>63.9</td>\n      <td>4631.25</td>\n      <td>11608.50</td>\n      <td>5657.0</td>\n      <td>3443.75</td>\n      <td>...</td>\n      <td>347.25</td>\n      <td>1182.00</td>\n      <td>48.25</td>\n      <td>8144.75</td>\n      <td>454.25</td>\n      <td>196.00</td>\n      <td>0.0</td>\n      <td>787.00</td>\n      <td>383.00</td>\n      <td>3943.00</td>\n    </tr>\n    <tr>\n      <th>2021-01-01 01:00:00+01:00</th>\n      <td>48.19</td>\n      <td>1.9</td>\n      <td>0.2</td>\n      <td>88.5</td>\n      <td>10.0</td>\n      <td>63.9</td>\n      <td>4619.25</td>\n      <td>11602.75</td>\n      <td>5417.0</td>\n      <td>3044.75</td>\n      <td>...</td>\n      <td>518.50</td>\n      <td>1174.75</td>\n      <td>46.25</td>\n      <td>8150.25</td>\n      <td>454.00</td>\n      <td>196.00</td>\n      <td>0.0</td>\n      <td>785.75</td>\n      <td>394.50</td>\n      <td>3549.75</td>\n    </tr>\n    <tr>\n      <th>2021-01-01 02:00:00+01:00</th>\n      <td>44.68</td>\n      <td>1.9</td>\n      <td>0.2</td>\n      <td>88.5</td>\n      <td>10.0</td>\n      <td>63.9</td>\n      <td>4617.25</td>\n      <td>11758.50</td>\n      <td>5319.0</td>\n      <td>3067.25</td>\n      <td>...</td>\n      <td>219.00</td>\n      <td>1158.25</td>\n      <td>30.25</td>\n      <td>8156.50</td>\n      <td>454.00</td>\n      <td>196.00</td>\n      <td>0.0</td>\n      <td>779.00</td>\n      <td>305.25</td>\n      <td>3223.25</td>\n    </tr>\n    <tr>\n      <th>2021-01-01 03:00:00+01:00</th>\n      <td>42.92</td>\n      <td>1.9</td>\n      <td>0.2</td>\n      <td>88.5</td>\n      <td>10.0</td>\n      <td>63.9</td>\n      <td>4606.00</td>\n      <td>12337.50</td>\n      <td>5134.5</td>\n      <td>2852.50</td>\n      <td>...</td>\n      <td>2.00</td>\n      <td>1155.50</td>\n      <td>48.75</td>\n      <td>8153.75</td>\n      <td>454.25</td>\n      <td>196.00</td>\n      <td>0.0</td>\n      <td>770.75</td>\n      <td>319.25</td>\n      <td>2793.75</td>\n    </tr>\n    <tr>\n      <th>2021-01-01 04:00:00+01:00</th>\n      <td>40.39</td>\n      <td>1.9</td>\n      <td>0.2</td>\n      <td>88.5</td>\n      <td>10.0</td>\n      <td>63.9</td>\n      <td>4606.75</td>\n      <td>12395.00</td>\n      <td>4999.5</td>\n      <td>2713.25</td>\n      <td>...</td>\n      <td>6.00</td>\n      <td>1152.50</td>\n      <td>26.75</td>\n      <td>8150.50</td>\n      <td>465.00</td>\n      <td>200.75</td>\n      <td>0.0</td>\n      <td>760.50</td>\n      <td>296.25</td>\n      <td>2499.25</td>\n    </tr>\n  </tbody>\n</table>\n<p>5 rows × 22 columns</p>\n</div>"
     },
     "execution_count": 15,
     "metadata": {},
     "output_type": "execute_result"
    }
   ],
   "source": [
    "new_df = new_df.drop(\"merge_idx\", axis = 1)\n",
    "new_df = new_df.set_index(\"data\")\n",
    "new_df.head()"
   ],
   "metadata": {
    "collapsed": false,
    "pycharm": {
     "name": "#%%\n"
    }
   }
  },
  {
   "cell_type": "code",
   "execution_count": 16,
   "outputs": [],
   "source": [
    "new_df.to_csv(\"germany_final.csv\")"
   ],
   "metadata": {
    "collapsed": false,
    "pycharm": {
     "name": "#%%\n"
    }
   }
  },
  {
   "cell_type": "code",
   "execution_count": null,
   "outputs": [],
   "source": [],
   "metadata": {
    "collapsed": false,
    "pycharm": {
     "name": "#%%\n"
    }
   }
  }
 ],
 "metadata": {
  "kernelspec": {
   "display_name": "Python 3",
   "language": "python",
   "name": "python3"
  },
  "language_info": {
   "codemirror_mode": {
    "name": "ipython",
    "version": 2
   },
   "file_extension": ".py",
   "mimetype": "text/x-python",
   "name": "python",
   "nbconvert_exporter": "python",
   "pygments_lexer": "ipython2",
   "version": "2.7.6"
  }
 },
 "nbformat": 4,
 "nbformat_minor": 0
}